{
  "nbformat": 4,
  "nbformat_minor": 0,
  "metadata": {
    "colab": {
      "provenance": []
    },
    "kernelspec": {
      "name": "python3",
      "display_name": "Python 3"
    },
    "language_info": {
      "name": "python"
    }
  },
  "cells": [
    {
      "cell_type": "markdown",
      "source": [
        "NAMA : AHMAD QOMARUL ARIFIN"
      ],
      "metadata": {
        "id": "Z0tdhimZA65y"
      }
    },
    {
      "cell_type": "markdown",
      "source": [
        "NIM : 2409116114"
      ],
      "metadata": {
        "id": "xuCZCvxQBO-A"
      }
    },
    {
      "cell_type": "markdown",
      "source": [
        "# **Studi kasus : Analisis pengaruh IPK per tahun terhadap IPK akhir mahasiswa**"
      ],
      "metadata": {
        "id": "Vbk6yXi7BShc"
      }
    },
    {
      "cell_type": "markdown",
      "source": [
        "# **Bussines understanding**"
      ],
      "metadata": {
        "id": "H2pOQQLaPXFV"
      }
    },
    {
      "cell_type": "markdown",
      "source": [
        "## **Bussines objective**"
      ],
      "metadata": {
        "id": "v7ozxxNhPvBl"
      }
    },
    {
      "cell_type": "markdown",
      "source": [
        "Tujuan dari analisis ini adalah untuk memahami bagaimana IPK per tahun (CGPA100, CGPA200, CGPA300, CGPA400) mempengaruhi IPK akhir mahasiswa(CGPA). Dengan mengetahui pola ini, maka institusi pendidikan dapat memahami faktor-faktor apa saja yang mempengaruhi terhadap keberhasilan akademik mahasiswa dan meningkatkan strategi pembelajaran."
      ],
      "metadata": {
        "id": "6TScLmDuQFtG"
      }
    },
    {
      "cell_type": "markdown",
      "source": [
        "## **Assess Situation**"
      ],
      "metadata": {
        "id": "c_Q8oGmrRDBJ"
      }
    },
    {
      "cell_type": "markdown",
      "source": [
        "Dalam dunia akademik, keberhasilan mahasiswa diukur melalui IPK akhir (CGPA). Namun, banyak faktor yang mempengaruhi IPK akhir tersebut, termasuk bagaimana performa akademik mahasiswa di tahun-tahun sebelumnya. Dengan menganalisis data IPK per tahun, kita dapat melihat apakah nilai mahasiswa di awal perkuliahan memiliki dampak besar terhadap keberhasilan akademik mereka di akhir studi."
      ],
      "metadata": {
        "id": "-0qenpWcRpet"
      }
    },
    {
      "cell_type": "markdown",
      "source": [
        "## **Data Mining Goals**"
      ],
      "metadata": {
        "id": "3l4vnC5rSqZv"
      }
    },
    {
      "cell_type": "markdown",
      "source": [
        "Analisis ini bertujuan untuk memahami hubungan antara IPK per tahun dan IPK akhir mahasiswa. Dengan mengeksplorasi data ini, dapat diketahui apakah performa akademik di awal perkuliahan memiliki dampak signifika terhadap hasil akhir. Selain itu, analisis ini juga dapat memberikan wawasan kepada institusi pendidikan mengenai pola akademik mahasiswa, sehingga dapat membantu perancangan strategi pembelajaran yang lebih efektif."
      ],
      "metadata": {
        "id": "nqTevx1IUkdQ"
      }
    },
    {
      "cell_type": "markdown",
      "source": [
        "## **Project Plan**"
      ],
      "metadata": {
        "id": "Iv_ciAh0VVIT"
      }
    },
    {
      "cell_type": "markdown",
      "source": [
        "1. Tujuan proyek  \n",
        "\n",
        "    menganalisis bagaimana IPK per tahun mempengaruhi IPK akhir mahasiswa. Hasil analisis akan membantu institusi pendidikan dalam memahami pola akademik mahasiswa dan merancang strategi pembelajaran yang lebih efektif.\n",
        "    \n",
        "2. Ruang Lingkup\n",
        "\n",
        "    Dataset yang digunakan mencakup CGPA100-CGPA400(IPK tiap tahun) dan CGPA (IPK akhir mahasiswa). Fokus analisis adalah mencari hubungan antara IPK tiap tahun dengan IPK akhir menggunakan teknik statistik dan model regresi.\n",
        "\n",
        "3. Tahapan Proyek\n",
        "\n",
        "    - Pengumpulan Data : Menggunakan dataset akademik mahasiswa.\n",
        "    - Eksplorasi Data : Memahami struktur data dan membersihkan data jika diperlukan.\n",
        "    - Analisis Korelasi : Melihat hubungan antara IPK per tahun dengan IPK akhir.\n",
        "    - Model Regresi : Menganalisis seberapa besar pengaruh IPK tiap tahun terhadap IPK akhir.\n",
        "    - Interpretasi Hasil : Menyimpulkan pola yang ditemukan dan implikasinya bagi pendidikan.\n",
        "    - Dokumentasi & Pelaporan : Menyusun laporan dalam Google Colaboratory dan mengunggahnya ke GitHub.\n",
        "\n",
        "4. Hasil yang diharapkan\n",
        "\n",
        "    - Memahami pola hubungan antara IPK per tahun dan IPK akhir.\n",
        "    - Mengetahui tahun mana yang paling berpengaruh terhadap keberhasilan akademik mahasiswa.\n",
        "    - Memberikan wawasan bagi institusi pendidikan dalam meningkatkan kualitas pembelajaran."
      ],
      "metadata": {
        "id": "S7TE99gkVdod"
      }
    }
  ]
}